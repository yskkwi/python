{
  "nbformat": 4,
  "nbformat_minor": 0,
  "metadata": {
    "colab": {
      "name": "gpt2-ja-medi .ipynb",
      "provenance": [],
      "collapsed_sections": [],
      "mount_file_id": "1HXIT13DwE6ALfZvoH8iriaZbiIZEWUpb",
      "authorship_tag": "ABX9TyO9GYYx7BgdFsop+9FW18Pa",
      "include_colab_link": true
    },
    "kernelspec": {
      "name": "python3",
      "display_name": "Python 3"
    },
    "language_info": {
      "name": "python"
    },
    "accelerator": "GPU"
  },
  "cells": [
    {
      "cell_type": "markdown",
      "metadata": {
        "id": "view-in-github",
        "colab_type": "text"
      },
      "source": [
        "<a href=\"https://colab.research.google.com/github/yskkwi/python/blob/master/gpt2_ja_medi_.ipynb\" target=\"_parent\"><img src=\"https://colab.research.google.com/assets/colab-badge.svg\" alt=\"Open In Colab\"/></a>"
      ]
    },
    {
      "cell_type": "code",
      "source": [
        "pip install GitPython"
      ],
      "metadata": {
        "colab": {
          "base_uri": "https://localhost:8080/"
        },
        "id": "6KoZNnptHoX4",
        "outputId": "2505c90d-bdbc-4106-9cb2-bc56f4a8885f"
      },
      "execution_count": 3,
      "outputs": [
        {
          "output_type": "stream",
          "name": "stdout",
          "text": [
            "Collecting GitPython\n",
            "  Downloading GitPython-3.1.26-py3-none-any.whl (180 kB)\n",
            "\u001b[?25l\r\u001b[K     |█▉                              | 10 kB 17.1 MB/s eta 0:00:01\r\u001b[K     |███▋                            | 20 kB 11.5 MB/s eta 0:00:01\r\u001b[K     |█████▍                          | 30 kB 9.2 MB/s eta 0:00:01\r\u001b[K     |███████▎                        | 40 kB 8.4 MB/s eta 0:00:01\r\u001b[K     |█████████                       | 51 kB 5.6 MB/s eta 0:00:01\r\u001b[K     |██████████▉                     | 61 kB 5.7 MB/s eta 0:00:01\r\u001b[K     |████████████▊                   | 71 kB 5.7 MB/s eta 0:00:01\r\u001b[K     |██████████████▌                 | 81 kB 6.4 MB/s eta 0:00:01\r\u001b[K     |████████████████▎               | 92 kB 6.2 MB/s eta 0:00:01\r\u001b[K     |██████████████████              | 102 kB 5.4 MB/s eta 0:00:01\r\u001b[K     |████████████████████            | 112 kB 5.4 MB/s eta 0:00:01\r\u001b[K     |█████████████████████▊          | 122 kB 5.4 MB/s eta 0:00:01\r\u001b[K     |███████████████████████▌        | 133 kB 5.4 MB/s eta 0:00:01\r\u001b[K     |█████████████████████████▍      | 143 kB 5.4 MB/s eta 0:00:01\r\u001b[K     |███████████████████████████▏    | 153 kB 5.4 MB/s eta 0:00:01\r\u001b[K     |█████████████████████████████   | 163 kB 5.4 MB/s eta 0:00:01\r\u001b[K     |██████████████████████████████▉ | 174 kB 5.4 MB/s eta 0:00:01\r\u001b[K     |████████████████████████████████| 180 kB 5.4 MB/s \n",
            "\u001b[?25hCollecting gitdb<5,>=4.0.1\n",
            "  Downloading gitdb-4.0.9-py3-none-any.whl (63 kB)\n",
            "\u001b[?25l\r\u001b[K     |█████▏                          | 10 kB 24.4 MB/s eta 0:00:01\r\u001b[K     |██████████▍                     | 20 kB 30.2 MB/s eta 0:00:01\r\u001b[K     |███████████████▋                | 30 kB 35.8 MB/s eta 0:00:01\r\u001b[K     |████████████████████▊           | 40 kB 39.0 MB/s eta 0:00:01\r\u001b[K     |██████████████████████████      | 51 kB 38.5 MB/s eta 0:00:01\r\u001b[K     |███████████████████████████████▏| 61 kB 40.6 MB/s eta 0:00:01\r\u001b[K     |████████████████████████████████| 63 kB 1.9 MB/s \n",
            "\u001b[?25hRequirement already satisfied: typing-extensions>=3.7.4.3 in /usr/local/lib/python3.7/dist-packages (from GitPython) (3.10.0.2)\n",
            "Collecting smmap<6,>=3.0.1\n",
            "  Downloading smmap-5.0.0-py3-none-any.whl (24 kB)\n",
            "Installing collected packages: smmap, gitdb, GitPython\n",
            "Successfully installed GitPython-3.1.26 gitdb-4.0.9 smmap-5.0.0\n"
          ]
        }
      ]
    },
    {
      "cell_type": "code",
      "source": [
        "! git clone https://github.com/tanreinama/gpt2-Japanese"
      ],
      "metadata": {
        "colab": {
          "base_uri": "https://localhost:8080/"
        },
        "id": "fqBhJ0csIdxH",
        "outputId": "f5a39704-0bf0-4a9e-ca60-66b78248fc90"
      },
      "execution_count": 24,
      "outputs": [
        {
          "output_type": "stream",
          "name": "stdout",
          "text": [
            "fatal: destination path 'gpt2-Japanese' already exists and is not an empty directory.\n"
          ]
        }
      ]
    },
    {
      "cell_type": "code",
      "source": [
        "%cd /content/gpt2-Japanese"
      ],
      "metadata": {
        "colab": {
          "base_uri": "https://localhost:8080/"
        },
        "id": "Bd95fP0HOD6O",
        "outputId": "b5d14edd-dfa9-4b9a-b9ec-2b3d2731f4dc"
      },
      "execution_count": 30,
      "outputs": [
        {
          "output_type": "stream",
          "name": "stdout",
          "text": [
            "/content/gpt2-Japanese\n"
          ]
        }
      ]
    },
    {
      "cell_type": "code",
      "source": [
        "! wget https://www.nama.ne.jp/models/gpt2ja-medium.tar.bz2"
      ],
      "metadata": {
        "colab": {
          "base_uri": "https://localhost:8080/"
        },
        "id": "9_qfd8osPOTZ",
        "outputId": "e5d5b465-f1d3-4b24-f113-f548b34da3e3"
      },
      "execution_count": 32,
      "outputs": [
        {
          "output_type": "stream",
          "name": "stdout",
          "text": [
            "--2022-02-09 06:47:55--  https://www.nama.ne.jp/models/gpt2ja-medium.tar.bz2\n",
            "Resolving www.nama.ne.jp (www.nama.ne.jp)... 112.78.112.176\n",
            "Connecting to www.nama.ne.jp (www.nama.ne.jp)|112.78.112.176|:443... connected.\n",
            "HTTP request sent, awaiting response... 200 OK\n",
            "Length: 1231913234 (1.1G) [application/x-bzip2]\n",
            "Saving to: ‘gpt2ja-medium.tar.bz2’\n",
            "\n",
            "gpt2ja-medium.tar.b  42%[=======>            ] 502.81M  2.15MB/s    in 5m 1s   \n",
            "\n",
            "2022-02-09 06:52:57 (1.67 MB/s) - Connection closed at byte 527234345. Retrying.\n",
            "\n",
            "--2022-02-09 06:52:58--  (try: 2)  https://www.nama.ne.jp/models/gpt2ja-medium.tar.bz2\n",
            "Connecting to www.nama.ne.jp (www.nama.ne.jp)|112.78.112.176|:443... connected.\n",
            "HTTP request sent, awaiting response... 206 Partial Content\n",
            "Length: 1231913234 (1.1G), 704678889 (672M) remaining [application/x-bzip2]\n",
            "Saving to: ‘gpt2ja-medium.tar.bz2’\n",
            "\n",
            "gpt2ja-medium.tar.b  75%[++++++++======>     ] 890.41M  3.29MB/s    in 5m 0s   \n",
            "\n",
            "2022-02-09 06:57:59 (1.29 MB/s) - Connection closed at byte 933666036. Retrying.\n",
            "\n",
            "--2022-02-09 06:58:01--  (try: 3)  https://www.nama.ne.jp/models/gpt2ja-medium.tar.bz2\n",
            "Connecting to www.nama.ne.jp (www.nama.ne.jp)|112.78.112.176|:443... connected.\n",
            "HTTP request sent, awaiting response... 206 Partial Content\n",
            "Length: 1231913234 (1.1G), 298247198 (284M) remaining [application/x-bzip2]\n",
            "Saving to: ‘gpt2ja-medium.tar.bz2’\n",
            "\n",
            "gpt2ja-medium.tar.b 100%[+++++++++++++++====>]   1.15G   893KB/s    in 1m 57s  \n",
            "\n",
            "2022-02-09 06:59:59 (2.42 MB/s) - ‘gpt2ja-medium.tar.bz2’ saved [1231913234/1231913234]\n",
            "\n"
          ]
        }
      ]
    },
    {
      "cell_type": "code",
      "source": [
        "! tar xvfj gpt2ja-medium.tar.bz2"
      ],
      "metadata": {
        "colab": {
          "base_uri": "https://localhost:8080/"
        },
        "id": "QFovanx4PRp8",
        "outputId": "03d75e49-3158-4d5d-8f20-767c2237e190"
      },
      "execution_count": 33,
      "outputs": [
        {
          "output_type": "stream",
          "name": "stdout",
          "text": [
            "gpt2ja-medium/\n",
            "gpt2ja-medium/checkpoint\n",
            "gpt2ja-medium/model-10410000.data-00000-of-00001\n",
            "gpt2ja-medium/model-10410000.index\n",
            "gpt2ja-medium/model-10410000.meta\n",
            "special_thanks.txt\n"
          ]
        }
      ]
    },
    {
      "cell_type": "code",
      "source": [
        "! pip install -r requirements.txt"
      ],
      "metadata": {
        "colab": {
          "base_uri": "https://localhost:8080/"
        },
        "id": "OAc6ryzOSINC",
        "outputId": "4a94f047-84b5-4d0d-e12c-d0be0de7cfb4"
      },
      "execution_count": 34,
      "outputs": [
        {
          "output_type": "stream",
          "name": "stdout",
          "text": [
            "Requirement already satisfied: tqdm in /usr/local/lib/python3.7/dist-packages (from -r requirements.txt (line 1)) (4.62.3)\n",
            "Requirement already satisfied: numpy in /usr/local/lib/python3.7/dist-packages (from -r requirements.txt (line 2)) (1.19.5)\n",
            "Collecting jaconv\n",
            "  Downloading jaconv-0.3.tar.gz (15 kB)\n",
            "Requirement already satisfied: tensorflow in /usr/local/lib/python3.7/dist-packages (from -r requirements.txt (line 4)) (2.7.0)\n",
            "Requirement already satisfied: six>=1.12.0 in /usr/local/lib/python3.7/dist-packages (from tensorflow->-r requirements.txt (line 4)) (1.15.0)\n",
            "Requirement already satisfied: google-pasta>=0.1.1 in /usr/local/lib/python3.7/dist-packages (from tensorflow->-r requirements.txt (line 4)) (0.2.0)\n",
            "Requirement already satisfied: keras-preprocessing>=1.1.1 in /usr/local/lib/python3.7/dist-packages (from tensorflow->-r requirements.txt (line 4)) (1.1.2)\n",
            "Requirement already satisfied: termcolor>=1.1.0 in /usr/local/lib/python3.7/dist-packages (from tensorflow->-r requirements.txt (line 4)) (1.1.0)\n",
            "Requirement already satisfied: absl-py>=0.4.0 in /usr/local/lib/python3.7/dist-packages (from tensorflow->-r requirements.txt (line 4)) (1.0.0)\n",
            "Requirement already satisfied: opt-einsum>=2.3.2 in /usr/local/lib/python3.7/dist-packages (from tensorflow->-r requirements.txt (line 4)) (3.3.0)\n",
            "Requirement already satisfied: flatbuffers<3.0,>=1.12 in /usr/local/lib/python3.7/dist-packages (from tensorflow->-r requirements.txt (line 4)) (2.0)\n",
            "Requirement already satisfied: tensorflow-estimator<2.8,~=2.7.0rc0 in /usr/local/lib/python3.7/dist-packages (from tensorflow->-r requirements.txt (line 4)) (2.7.0)\n",
            "Requirement already satisfied: tensorflow-io-gcs-filesystem>=0.21.0 in /usr/local/lib/python3.7/dist-packages (from tensorflow->-r requirements.txt (line 4)) (0.23.1)\n",
            "Requirement already satisfied: protobuf>=3.9.2 in /usr/local/lib/python3.7/dist-packages (from tensorflow->-r requirements.txt (line 4)) (3.17.3)\n",
            "Requirement already satisfied: astunparse>=1.6.0 in /usr/local/lib/python3.7/dist-packages (from tensorflow->-r requirements.txt (line 4)) (1.6.3)\n",
            "Requirement already satisfied: h5py>=2.9.0 in /usr/local/lib/python3.7/dist-packages (from tensorflow->-r requirements.txt (line 4)) (3.1.0)\n",
            "Requirement already satisfied: gast<0.5.0,>=0.2.1 in /usr/local/lib/python3.7/dist-packages (from tensorflow->-r requirements.txt (line 4)) (0.4.0)\n",
            "Requirement already satisfied: tensorboard~=2.6 in /usr/local/lib/python3.7/dist-packages (from tensorflow->-r requirements.txt (line 4)) (2.7.0)\n",
            "Requirement already satisfied: keras<2.8,>=2.7.0rc0 in /usr/local/lib/python3.7/dist-packages (from tensorflow->-r requirements.txt (line 4)) (2.7.0)\n",
            "Requirement already satisfied: wheel<1.0,>=0.32.0 in /usr/local/lib/python3.7/dist-packages (from tensorflow->-r requirements.txt (line 4)) (0.37.1)\n",
            "Requirement already satisfied: libclang>=9.0.1 in /usr/local/lib/python3.7/dist-packages (from tensorflow->-r requirements.txt (line 4)) (13.0.0)\n",
            "Requirement already satisfied: grpcio<2.0,>=1.24.3 in /usr/local/lib/python3.7/dist-packages (from tensorflow->-r requirements.txt (line 4)) (1.43.0)\n",
            "Requirement already satisfied: typing-extensions>=3.6.6 in /usr/local/lib/python3.7/dist-packages (from tensorflow->-r requirements.txt (line 4)) (3.10.0.2)\n",
            "Requirement already satisfied: wrapt>=1.11.0 in /usr/local/lib/python3.7/dist-packages (from tensorflow->-r requirements.txt (line 4)) (1.13.3)\n",
            "Requirement already satisfied: cached-property in /usr/local/lib/python3.7/dist-packages (from h5py>=2.9.0->tensorflow->-r requirements.txt (line 4)) (1.5.2)\n",
            "Requirement already satisfied: google-auth<3,>=1.6.3 in /usr/local/lib/python3.7/dist-packages (from tensorboard~=2.6->tensorflow->-r requirements.txt (line 4)) (1.35.0)\n",
            "Requirement already satisfied: werkzeug>=0.11.15 in /usr/local/lib/python3.7/dist-packages (from tensorboard~=2.6->tensorflow->-r requirements.txt (line 4)) (1.0.1)\n",
            "Requirement already satisfied: tensorboard-data-server<0.7.0,>=0.6.0 in /usr/local/lib/python3.7/dist-packages (from tensorboard~=2.6->tensorflow->-r requirements.txt (line 4)) (0.6.1)\n",
            "Requirement already satisfied: requests<3,>=2.21.0 in /usr/local/lib/python3.7/dist-packages (from tensorboard~=2.6->tensorflow->-r requirements.txt (line 4)) (2.23.0)\n",
            "Requirement already satisfied: tensorboard-plugin-wit>=1.6.0 in /usr/local/lib/python3.7/dist-packages (from tensorboard~=2.6->tensorflow->-r requirements.txt (line 4)) (1.8.1)\n",
            "Requirement already satisfied: setuptools>=41.0.0 in /usr/local/lib/python3.7/dist-packages (from tensorboard~=2.6->tensorflow->-r requirements.txt (line 4)) (57.4.0)\n",
            "Requirement already satisfied: markdown>=2.6.8 in /usr/local/lib/python3.7/dist-packages (from tensorboard~=2.6->tensorflow->-r requirements.txt (line 4)) (3.3.6)\n",
            "Requirement already satisfied: google-auth-oauthlib<0.5,>=0.4.1 in /usr/local/lib/python3.7/dist-packages (from tensorboard~=2.6->tensorflow->-r requirements.txt (line 4)) (0.4.6)\n",
            "Requirement already satisfied: pyasn1-modules>=0.2.1 in /usr/local/lib/python3.7/dist-packages (from google-auth<3,>=1.6.3->tensorboard~=2.6->tensorflow->-r requirements.txt (line 4)) (0.2.8)\n",
            "Requirement already satisfied: cachetools<5.0,>=2.0.0 in /usr/local/lib/python3.7/dist-packages (from google-auth<3,>=1.6.3->tensorboard~=2.6->tensorflow->-r requirements.txt (line 4)) (4.2.4)\n",
            "Requirement already satisfied: rsa<5,>=3.1.4 in /usr/local/lib/python3.7/dist-packages (from google-auth<3,>=1.6.3->tensorboard~=2.6->tensorflow->-r requirements.txt (line 4)) (4.8)\n",
            "Requirement already satisfied: requests-oauthlib>=0.7.0 in /usr/local/lib/python3.7/dist-packages (from google-auth-oauthlib<0.5,>=0.4.1->tensorboard~=2.6->tensorflow->-r requirements.txt (line 4)) (1.3.1)\n",
            "Requirement already satisfied: importlib-metadata>=4.4 in /usr/local/lib/python3.7/dist-packages (from markdown>=2.6.8->tensorboard~=2.6->tensorflow->-r requirements.txt (line 4)) (4.10.1)\n",
            "Requirement already satisfied: zipp>=0.5 in /usr/local/lib/python3.7/dist-packages (from importlib-metadata>=4.4->markdown>=2.6.8->tensorboard~=2.6->tensorflow->-r requirements.txt (line 4)) (3.7.0)\n",
            "Requirement already satisfied: pyasn1<0.5.0,>=0.4.6 in /usr/local/lib/python3.7/dist-packages (from pyasn1-modules>=0.2.1->google-auth<3,>=1.6.3->tensorboard~=2.6->tensorflow->-r requirements.txt (line 4)) (0.4.8)\n",
            "Requirement already satisfied: certifi>=2017.4.17 in /usr/local/lib/python3.7/dist-packages (from requests<3,>=2.21.0->tensorboard~=2.6->tensorflow->-r requirements.txt (line 4)) (2021.10.8)\n",
            "Requirement already satisfied: urllib3!=1.25.0,!=1.25.1,<1.26,>=1.21.1 in /usr/local/lib/python3.7/dist-packages (from requests<3,>=2.21.0->tensorboard~=2.6->tensorflow->-r requirements.txt (line 4)) (1.24.3)\n",
            "Requirement already satisfied: chardet<4,>=3.0.2 in /usr/local/lib/python3.7/dist-packages (from requests<3,>=2.21.0->tensorboard~=2.6->tensorflow->-r requirements.txt (line 4)) (3.0.4)\n",
            "Requirement already satisfied: idna<3,>=2.5 in /usr/local/lib/python3.7/dist-packages (from requests<3,>=2.21.0->tensorboard~=2.6->tensorflow->-r requirements.txt (line 4)) (2.10)\n",
            "Requirement already satisfied: oauthlib>=3.0.0 in /usr/local/lib/python3.7/dist-packages (from requests-oauthlib>=0.7.0->google-auth-oauthlib<0.5,>=0.4.1->tensorboard~=2.6->tensorflow->-r requirements.txt (line 4)) (3.2.0)\n",
            "Building wheels for collected packages: jaconv\n",
            "  Building wheel for jaconv (setup.py) ... \u001b[?25l\u001b[?25hdone\n",
            "  Created wheel for jaconv: filename=jaconv-0.3-py3-none-any.whl size=15564 sha256=2051b27ce80ef5bfa10ca1c33d123bd28de6ade66d5886cd4950325fc9a5ea27\n",
            "  Stored in directory: /root/.cache/pip/wheels/8f/4f/c2/a2a3b14d0e94f855f4aa8887bf0267bee9ecfb8e62a9ee2d92\n",
            "Successfully built jaconv\n",
            "Installing collected packages: jaconv\n",
            "Successfully installed jaconv-0.3\n"
          ]
        }
      ]
    },
    {
      "cell_type": "code",
      "source": [
        "! python3 gpt2-generate.py --model gpt2ja-medium --num_generate 1"
      ],
      "metadata": {
        "colab": {
          "base_uri": "https://localhost:8080/"
        },
        "id": "H7xJh5tXS3ER",
        "outputId": "9b352509-d94d-4094-fcba-3582f243e759"
      },
      "execution_count": 35,
      "outputs": [
        {
          "output_type": "stream",
          "name": "stdout",
          "text": [
            "WARNING:tensorflow:From /content/gpt2-Japanese/sampling.py:79: to_float (from tensorflow.python.ops.math_ops) is deprecated and will be removed in a future version.\n",
            "Instructions for updating:\n",
            "Use `tf.cast` instead.\n",
            "WARNING:tensorflow:From /usr/local/lib/python3.7/dist-packages/tensorflow/python/util/dispatch.py:1096: multinomial (from tensorflow.python.ops.random_ops) is deprecated and will be removed in a future version.\n",
            "Instructions for updating:\n",
            "Use `tf.random.categorical` instead.\n",
            "\n",
            "まず、ここで聞いても無駄だと思います。    \n",
            "\n",
            ">私は38歳の大学生です。\n",
            " 「若い女性の車を見に行きたい」なんて、\n",
            "    女性の方が何というか、男性には、\n",
            "    全く理解できません。\n",
            "\n",
            ">子供が何人も出来てしまい,\n",
            "   >親も心配しているので,\n",
            "    何とかしなければと,\n",
            "    言い訳をします。\n",
            "\n",
            "    なので、何とかしなければ、と焦る気持ちを\n",
            "    忘れます。\n",
            "\n",
            "    そして,    自分で何とかできないので、どうにもならない\n",
            "    と、親に愚痴った事があります。\n",
            "\n",
            "> 自分で何とかしたいのですが,\n",
            "    そもそも子供の様子など気にせずに子供たちと\n",
            "    遊びたいのです。\n",
            "\n",
            "    親も本当に心配してくれているのです。\n",
            "\n",
            "    子供たちに何か出来ないし、自分で、\n",
            "    何とかしようとしているのです。\n",
            "\n",
            "    なので、自分でも頑張ってみる事に。\n",
            "\n",
            "    出来るまでに、かなり時間がかかるとは思いますが、\n",
            "    時間をかける程に、上手くなっていきます。\n",
            "\n",
            "    自分で何とかする事に、自信をつけてしまえば、\n",
            "    気持ちもすっきりしていくと思います。\n"
          ]
        }
      ]
    },
    {
      "cell_type": "code",
      "source": [
        "! python3 gpt2-generate.py --content=\"昔々ある所に，おじいさんとおばあさんが住んでいました\""
      ],
      "metadata": {
        "colab": {
          "base_uri": "https://localhost:8080/"
        },
        "id": "dkB8fZ37TAoe",
        "outputId": "05140d87-de9e-44eb-9000-95e78e7a0c12"
      },
      "execution_count": 36,
      "outputs": [
        {
          "output_type": "stream",
          "name": "stdout",
          "text": [
            "usage: gpt2-generate.py [-h] [--model MODEL] [--output_file OUTPUT_FILE]\n",
            "                        [--context CONTEXT] [--num_generate NUM_GENERATE]\n",
            "                        [--top_k TOP_K] [--top_p TOP_P]\n",
            "                        [--temperature TEMPERATURE] [--gpu GPU]\n",
            "                        [--max_length MAX_LENGTH] [--min_length MIN_LENGTH]\n",
            "gpt2-generate.py: error: unrecognized arguments: --content=昔々ある所に，おじいさんとおばあさんが住んでいました\n"
          ]
        }
      ]
    },
    {
      "cell_type": "code",
      "source": [
        "! $ python3 gpt2-generate.py"
      ],
      "metadata": {
        "colab": {
          "base_uri": "https://localhost:8080/"
        },
        "id": "3j9p4ovlTtwU",
        "outputId": "4252eb4a-3c1e-437c-b8b0-0aed29897348"
      },
      "execution_count": 38,
      "outputs": [
        {
          "output_type": "stream",
          "name": "stdout",
          "text": [
            "/bin/bash: $: command not found\n"
          ]
        }
      ]
    },
    {
      "cell_type": "code",
      "source": [
        "! python3 gpt2-generate.py --context=\"掛け算には順序が\""
      ],
      "metadata": {
        "colab": {
          "base_uri": "https://localhost:8080/"
        },
        "id": "aRc369U4UGvt",
        "outputId": "dab32b6f-89bb-411e-939d-e937ab676ea8"
      },
      "execution_count": 40,
      "outputs": [
        {
          "output_type": "stream",
          "name": "stdout",
          "text": [
            "WARNING:tensorflow:From /content/gpt2-Japanese/sampling.py:79: to_float (from tensorflow.python.ops.math_ops) is deprecated and will be removed in a future version.\n",
            "Instructions for updating:\n",
            "Use `tf.cast` instead.\n",
            "WARNING:tensorflow:From /usr/local/lib/python3.7/dist-packages/tensorflow/python/util/dispatch.py:1096: multinomial (from tensorflow.python.ops.random_ops) is deprecated and will be removed in a future version.\n",
            "Instructions for updating:\n",
            "Use `tf.random.categorical` instead.\n",
            "違うものがあるから、自分で割り算していく方がいいと思う\n",
            "\n",
            "\n",
            "========\n",
            "入るというが、それは逆算ということか。その逆算を利用しているために、彼らは今の状況を保てるのだということかと。\n",
            "ただし、同時に、もし正を含めた場合にのみ、その逆算に対応する正数は、その逆数の集合としての意味を持つとともに、正を含めた数字という意味でも、その逆数の集合としての意味を持つことになる。それを踏まえ、たとえば、「三平方よりも大きいが、二つ以上の異なる数が含まれる」とする。これが、四平方よりも小さい数字であるとするなら、正、二、三の数は、異なる数に対応する数字と置き換えることができるのである。すなわち、四平方よりも大きい数字がある時は、四平方よりも小さい数字を六百四百四八九という数とすることができるということである。\n",
            "ここから、数字の数の順序について、次のように考えることができる。\n",
            "それぞれの数が一を除いて九百四百三五九九九の「九百四百六百四十九九」のところまで増えれば、九百三百五九九九九という数字が与えられるから、例えば、「九百三百五九九九九九九九九九九」という数字を考えよう。「九百三百3333330366」といった数字が、九百四三八九九九九九九九九九九九であるとき、「九百三三\n",
            "========\n",
            "存在しない。したがって、このような方法は順序論においては正答である。また逆に、ある値(例えば2,3,4,5)を持つ全ての数は\"n\"番目の\"f\"を数えることによって\"j\"番目の\"f\"の結果が得られる事も、この方法の逆である。この方法は、\"n\"番目の数からf(\"f\")が\"n\"番目の数へと変化するように \"f\" = \"f\" としている、という意味である。この意味することが、数は\"n\"番目の全ての数 \"f\" に等しいという意味にもつながっている。したがってf\"f\"の変化はf\"r\"(2,3,4,5) となり、f\"f\"が\"r\"番目まで連続であるとき、f\"r\"番目の数の変化はf\"f\"とf\"g\"(1,2,3,4) へと変化する。\n",
            "この問題の全ての結果、すなわち数 \"r\" が\"n\"番目まで連続であることを、「\"r\" + 1 が連続」という。この値の集合は正準集合として（\"r\" + 1 が連続である）という意味で、\"r\" + 1 が \"n\" 番目のときであるか、あるいは（\"r\" + 1 が 0 番目のとき）あるいは\"r\"個の (\"n\", \"c\", \"s\" > 1) 個の 2番目の文字列に対して、\"f\" <\n",
            "========\n",
            "入っていない)\n",
            "\n",
            "========\n",
            "入り乱れるから、それを修正するなら、どうしても順番を先送りにしてあげないといけないのかと思いまして、こちらの「MidSoft Gateway」を使いました。\n",
            "こちらも、URLはMulti-Logicにしてみました。Web RegItemは、こちらでダウンロードすることが可能ですが、こちらもURLはしっかりとしています。\n",
            "ということで、MidSoft Gatewayを使用して、「URL + RegItem」の構成にしてみました。\n",
            "\n",
            "\n",
            "準備\n",
            "MeCab Java のチューページはこちらです。\n",
            "URLは、こちらです。\n",
            "\n",
            "\n",
            "実行してみる\n",
            "下記コマンドで実行します。\n",
            "すると、以下のような出力になります。\n",
            "実行すると下記のようなメッセージが表示されます。\n",
            "\n",
            "実行結果は以下のようになりました。\n",
            "エラーは発生しませんね。\n",
            "\n",
            "参考URL\n",
            "これで、MidSoftからGUIアプリメールができるようになりました。\n",
            "GUIサービスとしては、Redundanceを使用したほうが良さそうです。GUIサービスを使うには、JavaScriptのコードは、「MidSoft Gateway」を使用するということを覚えておい\n"
          ]
        }
      ]
    },
    {
      "cell_type": "code",
      "source": [
        ""
      ],
      "metadata": {
        "id": "jDe5qbjsUYfJ"
      },
      "execution_count": null,
      "outputs": []
    }
  ]
}