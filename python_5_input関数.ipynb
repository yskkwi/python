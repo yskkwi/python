{
  "nbformat": 4,
  "nbformat_minor": 0,
  "metadata": {
    "colab": {
      "name": "python 5 input関数.ipynb",
      "provenance": [],
      "collapsed_sections": [],
      "authorship_tag": "ABX9TyNUk2om3873Fkbr19tiis9L",
      "include_colab_link": true
    },
    "kernelspec": {
      "name": "python3",
      "display_name": "Python 3"
    },
    "language_info": {
      "name": "python"
    }
  },
  "cells": [
    {
      "cell_type": "markdown",
      "metadata": {
        "id": "view-in-github",
        "colab_type": "text"
      },
      "source": [
        "<a href=\"https://colab.research.google.com/github/yskkwi/python/blob/master/python_5_input%E9%96%A2%E6%95%B0.ipynb\" target=\"_parent\"><img src=\"https://colab.research.google.com/assets/colab-badge.svg\" alt=\"Open In Colab\"/></a>"
      ]
    },
    {
      "cell_type": "code",
      "execution_count": null,
      "metadata": {
        "colab": {
          "base_uri": "https://localhost:8080/",
          "height": 90
        },
        "id": "ho9SiZGI-lXb",
        "outputId": "23dda746-24cc-466c-f708-eedd75c94783"
      },
      "outputs": [
        {
          "name": "stdout",
          "output_type": "stream",
          "text": [
            "何か入力してください　=> :明日は晴れるかな？\n",
            "「明日は晴れるかな？」と入力されました\n",
            "Enterキーで終了\n"
          ]
        },
        {
          "output_type": "execute_result",
          "data": {
            "application/vnd.google.colaboratory.intrinsic+json": {
              "type": "string"
            },
            "text/plain": [
              "''"
            ]
          },
          "metadata": {},
          "execution_count": 1
        }
      ],
      "source": [
        "text = input(\"何か入力してください　=> :\")\n",
        "print(\"「{msg}」と入力されました\".format(msg = text))\n",
        "input(\"Enterキーで終了\")"
      ]
    },
    {
      "cell_type": "code",
      "source": [
        "num1 = input(\"1つ目の数字を入力してください：\")\n",
        "num2 = input(\"2つ目の数字を入力してください：\")\n",
        "\n",
        "ans = int(num1) + int(num2)\n",
        "\n",
        "print(str(num1)+\" + \"+str(num2)+\" = \"+str(ans))\n",
        "input(\"Enterキーで終了\")\n"
      ],
      "metadata": {
        "colab": {
          "base_uri": "https://localhost:8080/",
          "height": 108
        },
        "id": "OiPPMRlv-zoi",
        "outputId": "e8b18ade-015d-4905-9de1-be1c73a909df"
      },
      "execution_count": null,
      "outputs": [
        {
          "name": "stdout",
          "output_type": "stream",
          "text": [
            "1つ目の数字を入力してください：4\n",
            "2つ目の数字を入力してください：7\n",
            "4 + 7 = 11\n",
            "Enterキーで終了\n"
          ]
        },
        {
          "output_type": "execute_result",
          "data": {
            "application/vnd.google.colaboratory.intrinsic+json": {
              "type": "string"
            },
            "text/plain": [
              "''"
            ]
          },
          "metadata": {},
          "execution_count": 3
        }
      ]
    },
    {
      "cell_type": "code",
      "source": [
        "num1 = input(\"1つ目の数字を入力してください：\")\n",
        "num2 = input(\"2つ目の数字を入力してください：\")\n",
        "\n",
        "ans = int(num1) + int(num2)\n",
        "\n",
        "print((num1)+\" + \"+(num2)+\" = \"+str(ans))\n",
        "input(\"Enterキーで終了\")"
      ],
      "metadata": {
        "colab": {
          "base_uri": "https://localhost:8080/",
          "height": 108
        },
        "id": "8MrEfTJ6_Do_",
        "outputId": "64a3dea9-bc5e-4b02-eb9c-9588613ef731"
      },
      "execution_count": null,
      "outputs": [
        {
          "name": "stdout",
          "output_type": "stream",
          "text": [
            "1つ目の数字を入力してください：3\n",
            "2つ目の数字を入力してください：9\n",
            "3 + 9 = 12\n",
            "Enterキーで終了\n"
          ]
        },
        {
          "output_type": "execute_result",
          "data": {
            "application/vnd.google.colaboratory.intrinsic+json": {
              "type": "string"
            },
            "text/plain": [
              "''"
            ]
          },
          "metadata": {},
          "execution_count": 4
        }
      ]
    },
    {
      "cell_type": "code",
      "source": [
        "num1 = input(\"1つ目の数字を入力してください：\")\n",
        "num2 = input(\"2つ目の数字を入力してください：\")\n",
        "\n",
        "ans = int(num1) + int(num2)\n",
        "\n",
        "msg_ans = (\"{0} + {1} = {2}\".format(num1,num2,ans))\n",
        "print(msg_ans)\n",
        "input(\"Enterキーで終了\")"
      ],
      "metadata": {
        "colab": {
          "base_uri": "https://localhost:8080/",
          "height": 108
        },
        "id": "CGJtSxdm_ULF",
        "outputId": "b32ad627-d504-471d-d747-a2a6fb28c226"
      },
      "execution_count": null,
      "outputs": [
        {
          "name": "stdout",
          "output_type": "stream",
          "text": [
            "1つ目の数字を入力してください：2\n",
            "2つ目の数字を入力してください：3\n",
            "2 + 3 = 5\n",
            "Enterキーで終了\n"
          ]
        },
        {
          "output_type": "execute_result",
          "data": {
            "application/vnd.google.colaboratory.intrinsic+json": {
              "type": "string"
            },
            "text/plain": [
              "''"
            ]
          },
          "metadata": {},
          "execution_count": 5
        }
      ]
    }
  ]
}